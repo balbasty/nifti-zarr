{
 "cells": [
  {
   "cell_type": "code",
   "execution_count": 1,
   "metadata": {},
   "outputs": [],
   "source": [
    "import os\n"
   ]
  },
  {
   "cell_type": "code",
   "execution_count": 2,
   "metadata": {},
   "outputs": [],
   "source": [
    "HOME = os.environ.get('HOME')\n",
    "PATH = f'{HOME}/Dropbox/data/niizarr'\n",
    "PREFIX = 'http://127.0.0.1:8888/'\n",
    "FNAME = 'sub-control01_T1w.nii.zarr'\n"
   ]
  },
  {
   "cell_type": "code",
   "execution_count": 3,
   "metadata": {},
   "outputs": [],
   "source": [
    "from wsgiref.simple_server import make_server\n",
    "\n",
    "\n",
    "def file_not_found(dest, start_response):\n",
    "    start_response(\n",
    "        \"404 Not found\",\n",
    "        [(\"Content-type\", \"text/html\"), (\"Access-Control-Allow-Origin\", \"*\")],\n",
    "    )\n",
    "    return [(\"<html><body>%s not found</body></html>\" % dest).encode(\"utf-8\")]\n",
    "\n",
    "\n",
    "def serve(environ, start_response):\n",
    "    path_info = environ[\"PATH_INFO\"]\n",
    "    if path_info.startswith('/'):\n",
    "        path_info = path_info[1:]\n",
    "    path_info = os.path.join(PATH, path_info)\n",
    "    print(PATH, path_info)\n",
    "    if path_info.endswith(('.zarr', '.zarr/')):\n",
    "        path_info = os.path.join(path_info, '.zgroup')\n",
    "    if not os.path.exists(path_info):\n",
    "        return file_not_found(path_info, start_response)\n",
    "    with open(path_info, 'rb') as f:\n",
    "        data = f.read()\n",
    "    start_response(\n",
    "        \"200 OK\",\n",
    "        [\n",
    "            (\"Content-type\", \"application/octet-stream\"),\n",
    "            (\"Content-Length\", str(len(data))),\n",
    "            (\"Access-Control-Allow-Origin\", \"*\"),\n",
    "        ],\n",
    "    )\n",
    "    return [data]\n",
    "\n",
    "\n",
    "def run_server():\n",
    "    server = make_server('127.0.0.1', 8888, serve)\n",
    "    server.serve_forever()\n"
   ]
  },
  {
   "cell_type": "code",
   "execution_count": 4,
   "metadata": {},
   "outputs": [
    {
     "name": "stdout",
     "output_type": "stream",
     "text": [
      "/Users/yb947/Dropbox/data/niizarr /sub-control01_T1w.nii.zarr\n"
     ]
    },
    {
     "name": "stderr",
     "output_type": "stream",
     "text": [
      "127.0.0.1 - - [16/Dec/2023 10:37:50] \"GET /sub-control01_T1w.nii.zarr HTTP/1.1\" 404 71\n"
     ]
    },
    {
     "ename": "KeyboardInterrupt",
     "evalue": "",
     "output_type": "error",
     "traceback": [
      "\u001b[1;31m---------------------------------------------------------------------------\u001b[0m",
      "\u001b[1;31mKeyboardInterrupt\u001b[0m                         Traceback (most recent call last)",
      "\u001b[1;32m/Users/yb947/Dropbox (Partners HealthCare)/code/balbasty/nifti-zarr/python/notebooks/neuroglancer_fileserver.ipynb Cell 4\u001b[0m line \u001b[0;36m1\n\u001b[1;32m----> <a href='vscode-notebook-cell:/Users/yb947/Dropbox%20%28Partners%20HealthCare%29/code/balbasty/nifti-zarr/python/notebooks/neuroglancer_fileserver.ipynb#W3sZmlsZQ%3D%3D?line=0'>1</a>\u001b[0m run_server()\n",
      "\u001b[1;32m/Users/yb947/Dropbox (Partners HealthCare)/code/balbasty/nifti-zarr/python/notebooks/neuroglancer_fileserver.ipynb Cell 4\u001b[0m line \u001b[0;36m3\n\u001b[0;32m     <a href='vscode-notebook-cell:/Users/yb947/Dropbox%20%28Partners%20HealthCare%29/code/balbasty/nifti-zarr/python/notebooks/neuroglancer_fileserver.ipynb#W3sZmlsZQ%3D%3D?line=32'>33</a>\u001b[0m \u001b[39mdef\u001b[39;00m \u001b[39mrun_server\u001b[39m():\n\u001b[0;32m     <a href='vscode-notebook-cell:/Users/yb947/Dropbox%20%28Partners%20HealthCare%29/code/balbasty/nifti-zarr/python/notebooks/neuroglancer_fileserver.ipynb#W3sZmlsZQ%3D%3D?line=33'>34</a>\u001b[0m     server \u001b[39m=\u001b[39m make_server(\u001b[39m'\u001b[39m\u001b[39m127.0.0.1\u001b[39m\u001b[39m'\u001b[39m, \u001b[39m8888\u001b[39m, serve)\n\u001b[1;32m---> <a href='vscode-notebook-cell:/Users/yb947/Dropbox%20%28Partners%20HealthCare%29/code/balbasty/nifti-zarr/python/notebooks/neuroglancer_fileserver.ipynb#W3sZmlsZQ%3D%3D?line=34'>35</a>\u001b[0m     server\u001b[39m.\u001b[39;49mserve_forever()\n",
      "File \u001b[1;32m/opt/miniconda3/envs/ngtracts/lib/python3.8/socketserver.py:232\u001b[0m, in \u001b[0;36mBaseServer.serve_forever\u001b[1;34m(self, poll_interval)\u001b[0m\n\u001b[0;32m    229\u001b[0m selector\u001b[39m.\u001b[39mregister(\u001b[39mself\u001b[39m, selectors\u001b[39m.\u001b[39mEVENT_READ)\n\u001b[0;32m    231\u001b[0m \u001b[39mwhile\u001b[39;00m \u001b[39mnot\u001b[39;00m \u001b[39mself\u001b[39m\u001b[39m.\u001b[39m__shutdown_request:\n\u001b[1;32m--> 232\u001b[0m     ready \u001b[39m=\u001b[39m selector\u001b[39m.\u001b[39;49mselect(poll_interval)\n\u001b[0;32m    233\u001b[0m     \u001b[39m# bpo-35017: shutdown() called during select(), exit immediately.\u001b[39;00m\n\u001b[0;32m    234\u001b[0m     \u001b[39mif\u001b[39;00m \u001b[39mself\u001b[39m\u001b[39m.\u001b[39m__shutdown_request:\n",
      "File \u001b[1;32m/opt/miniconda3/envs/ngtracts/lib/python3.8/selectors.py:415\u001b[0m, in \u001b[0;36m_PollLikeSelector.select\u001b[1;34m(self, timeout)\u001b[0m\n\u001b[0;32m    413\u001b[0m ready \u001b[39m=\u001b[39m []\n\u001b[0;32m    414\u001b[0m \u001b[39mtry\u001b[39;00m:\n\u001b[1;32m--> 415\u001b[0m     fd_event_list \u001b[39m=\u001b[39m \u001b[39mself\u001b[39;49m\u001b[39m.\u001b[39;49m_selector\u001b[39m.\u001b[39;49mpoll(timeout)\n\u001b[0;32m    416\u001b[0m \u001b[39mexcept\u001b[39;00m \u001b[39mInterruptedError\u001b[39;00m:\n\u001b[0;32m    417\u001b[0m     \u001b[39mreturn\u001b[39;00m ready\n",
      "\u001b[1;31mKeyboardInterrupt\u001b[0m: "
     ]
    }
   ],
   "source": [
    "run_server()\n"
   ]
  }
 ],
 "metadata": {
  "kernelspec": {
   "display_name": "ngtracts",
   "language": "python",
   "name": "python3"
  },
  "language_info": {
   "codemirror_mode": {
    "name": "ipython",
    "version": 3
   },
   "file_extension": ".py",
   "mimetype": "text/x-python",
   "name": "python",
   "nbconvert_exporter": "python",
   "pygments_lexer": "ipython3",
   "version": "3.8.18"
  }
 },
 "nbformat": 4,
 "nbformat_minor": 2
}
