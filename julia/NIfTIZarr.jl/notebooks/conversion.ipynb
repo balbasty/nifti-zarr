{
 "cells": [
  {
   "cell_type": "code",
   "execution_count": 1,
   "metadata": {},
   "outputs": [
    {
     "name": "stderr",
     "output_type": "stream",
     "text": [
      "\u001b[32m\u001b[1m   Resolving\u001b[22m\u001b[39m package versions...\n"
     ]
    },
    {
     "name": "stderr",
     "output_type": "stream",
     "text": [
      "\u001b[32m\u001b[1m  No Changes\u001b[22m\u001b[39m to `~/Dropbox (Partners HealthCare)/code/balbasty/nifti-zarr/Project.toml`\n",
      "\u001b[32m\u001b[1m  No Changes\u001b[22m\u001b[39m to `~/Dropbox (Partners HealthCare)/code/balbasty/nifti-zarr/Manifest.toml`\n"
     ]
    },
    {
     "name": "stderr",
     "output_type": "stream",
     "text": [
      "\u001b[32m\u001b[1m   Resolving\u001b[22m\u001b[39m package versions...\n",
      "\u001b[32m\u001b[1m  No Changes\u001b[22m\u001b[39m to `~/Dropbox (Partners HealthCare)/code/balbasty/nifti-zarr/Project.toml`\n",
      "\u001b[32m\u001b[1m  No Changes\u001b[22m\u001b[39m to `~/Dropbox (Partners HealthCare)/code/balbasty/nifti-zarr/Manifest.toml`\n"
     ]
    }
   ],
   "source": [
    "import Pkg\n",
    "# Pkg.develop(path=\"..\")\n",
    "Pkg.add(\"NIfTI\")\n",
    "Pkg.add(\"Zarr\")\n",
    "\n",
    "import NIfTI\n",
    "import Zarr\n",
    "import NIfTIZarr\n"
   ]
  },
  {
   "cell_type": "code",
   "execution_count": 2,
   "metadata": {},
   "outputs": [
    {
     "data": {
      "text/plain": [
       "\"/Users/yb947/Dropbox/data/niizarr/sub-control01_T1w_julia.nii.zarr\""
      ]
     },
     "metadata": {},
     "output_type": "display_data"
    }
   ],
   "source": [
    "PATH_NII = \"$(homedir())/Dropbox/data/niizarr/sub-control01_T1w.nii.gz\"\n",
    "PATH_ZARR = \"$(homedir())/Dropbox/data/niizarr/sub-control01_T1w_julia.nii.zarr\"\n"
   ]
  },
  {
   "cell_type": "code",
   "execution_count": 3,
   "metadata": {},
   "outputs": [],
   "source": [
    "# nii = NIfTI.niread(PATH_NII)\n"
   ]
  },
  {
   "cell_type": "code",
   "execution_count": 4,
   "metadata": {},
   "outputs": [
    {
     "name": "stdout",
     "output_type": "stream",
     "text": [
      "(1, 1, 256, 256, 176)\n",
      "(1, 1, 64, 64, 64)\n"
     ]
    },
    {
     "name": "stdout",
     "output_type": "stream",
     "text": [
      "(1, 1, 128, 128, 88)\n",
      "(1, 1, 64, 64, 64)\n",
      "(1, 1, 64, 64, 44)\n",
      "(1, 1, 64, 64, 64)\n",
      "(1, 1, 32, 32, 22)\n",
      "(1, 1, 64, 64, 64)\n"
     ]
    },
    {
     "name": "stdout",
     "output_type": "stream",
     "text": [
      "(1, 1, 16, 16, 11)\n",
      "(1, 1, 64, 64, 64)\n"
     ]
    }
   ],
   "source": [
    "NIfTIZarr.nii2zarr(PATH_NII, PATH_ZARR)\n"
   ]
  }
 ],
 "metadata": {
  "kernelspec": {
   "display_name": "Julia 1.8.3",
   "language": "julia",
   "name": "julia-1.8"
  },
  "language_info": {
   "file_extension": ".jl",
   "mimetype": "application/julia",
   "name": "julia",
   "version": "1.8.3"
  }
 },
 "nbformat": 4,
 "nbformat_minor": 2
}
